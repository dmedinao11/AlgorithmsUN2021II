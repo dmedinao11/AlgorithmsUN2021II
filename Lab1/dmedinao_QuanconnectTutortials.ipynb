{
  "cells": [
    {
      "cell_type": "markdown",
      "metadata": {
        "id": "TkOsaeuHlXTi"
      },
      "source": [
        "# **Lab in Google Colab**"
      ]
    },
    {
      "cell_type": "markdown",
      "metadata": {
        "id": "orml8Ex3lnBp"
      },
      "source": [
        "# ***1. Data Types and Data Structures***"
      ]
    },
    {
      "cell_type": "markdown",
      "metadata": {
        "id": "pCXoSfn0mVOV"
      },
      "source": [
        "## **Basic Variable Types**"
      ]
    },
    {
      "cell_type": "markdown",
      "metadata": {},
      "source": [
        "### Strings"
      ]
    },
    {
      "cell_type": "code",
      "execution_count": 4,
      "metadata": {
        "colab": {
          "base_uri": "https://localhost:8080/"
        },
        "id": "LY5excpCmBIF",
        "outputId": "96c0bfd1-5213-4798-adcc-b4c3b7e5e6ff"
      },
      "outputs": [
        {
          "name": "stdout",
          "output_type": "stream",
          "text": [
            "Welcome to QuantConnect\n"
          ]
        }
      ],
      "source": [
        "myString1 = \"Welcome to\"\n",
        "myString2 = 'QuantConnect'\n",
        "print(myString1 + ' ' + myString2)"
      ]
    },
    {
      "cell_type": "code",
      "execution_count": 3,
      "metadata": {
        "colab": {
          "base_uri": "https://localhost:8080/"
        },
        "id": "uQVGpqpcmaQ9",
        "outputId": "79d09dcb-b94c-4be7-9df3-bdbb21793cec"
      },
      "outputs": [
        {
          "name": "stdout",
          "output_type": "stream",
          "text": [
            "Daniel says:\n",
            "Hi everybody in algorithms class!\n"
          ]
        }
      ],
      "source": [
        "myString3 = 'Daniel says:'\n",
        "myString4 = \"Hi everybody in algorithms class!\"\n",
        "print(myString3 + \"\\n\" + myString4)"
      ]
    },
    {
      "cell_type": "markdown",
      "metadata": {},
      "source": [
        "### Integers"
      ]
    },
    {
      "cell_type": "code",
      "execution_count": 19,
      "metadata": {
        "colab": {
          "base_uri": "https://localhost:8080/"
        },
        "id": "z1acB5gZm8KS",
        "outputId": "6863f36b-a88d-4d22-e0e9-f6484f587c7f"
      },
      "outputs": [
        {
          "name": "stdout",
          "output_type": "stream",
          "text": [
            "10\n",
            "<class 'int'>\n"
          ]
        }
      ],
      "source": [
        "myInt1 = 10\n",
        "print(myInt1)\n",
        "print(type(myInt1))"
      ]
    },
    {
      "cell_type": "code",
      "execution_count": 6,
      "metadata": {
        "colab": {
          "base_uri": "https://localhost:8080/"
        },
        "id": "vQTXYm4bnDQb",
        "outputId": "e3069582-d846-484e-a102-12f09b8b9f6f"
      },
      "outputs": [
        {
          "name": "stdout",
          "output_type": "stream",
          "text": [
            "902\n",
            "<class 'int'>\n"
          ]
        }
      ],
      "source": [
        "myInt2 = 902\n",
        "print(myInt2)\n",
        "print(type(myInt2))"
      ]
    },
    {
      "cell_type": "code",
      "execution_count": 1,
      "metadata": {},
      "outputs": [
        {
          "name": "stdout",
          "output_type": "stream",
          "text": [
            "<class 'str'>\n",
            "<class 'int'>\n"
          ]
        }
      ],
      "source": [
        "myString5 = \"100\"\n",
        "print(type(myString5))\n",
        "myInt5 = int(myString5)\n",
        "print(type(myInt5))"
      ]
    },
    {
      "cell_type": "code",
      "execution_count": 2,
      "metadata": {},
      "outputs": [
        {
          "name": "stdout",
          "output_type": "stream",
          "text": [
            "<class 'int'>\n"
          ]
        }
      ],
      "source": [
        "myString6 = \"1723\"\n",
        "myInt6 = int(myString6)\n",
        "print(type(myInt6))"
      ]
    },
    {
      "cell_type": "markdown",
      "metadata": {},
      "source": [
        "### Floats"
      ]
    },
    {
      "cell_type": "code",
      "execution_count": null,
      "metadata": {},
      "outputs": [],
      "source": [
        "myFloat1 = 1.0\n",
        "print(type(myFloat1))"
      ]
    },
    {
      "cell_type": "code",
      "execution_count": 11,
      "metadata": {},
      "outputs": [
        {
          "name": "stdout",
          "output_type": "stream",
          "text": [
            "Type <class 'float'>\n"
          ]
        }
      ],
      "source": [
        "myFloat2 = 3.1416\n",
        "print(\"Type \" + str(type(myFloat2)))"
      ]
    },
    {
      "cell_type": "code",
      "execution_count": 13,
      "metadata": {},
      "outputs": [
        {
          "name": "stdout",
          "output_type": "stream",
          "text": [
            "<class 'float'> 100.0\n"
          ]
        }
      ],
      "source": [
        "myString7 = \"100\"\n",
        "myFloat3 = float(myString7)\n",
        "print(type(myFloat3), myFloat3)\n"
      ]
    },
    {
      "cell_type": "markdown",
      "metadata": {},
      "source": [
        "### Booleans"
      ]
    },
    {
      "cell_type": "code",
      "execution_count": 15,
      "metadata": {},
      "outputs": [
        {
          "name": "stdout",
          "output_type": "stream",
          "text": [
            "False\n"
          ]
        }
      ],
      "source": [
        "myBool1 = False\n",
        "print(myBool1)"
      ]
    },
    {
      "cell_type": "code",
      "execution_count": 17,
      "metadata": {},
      "outputs": [
        {
          "name": "stdout",
          "output_type": "stream",
          "text": [
            "<class 'bool'>\n"
          ]
        }
      ],
      "source": [
        "myBool2 = True\n",
        "print(type(myBool2))\n"
      ]
    },
    {
      "cell_type": "markdown",
      "metadata": {},
      "source": [
        "## **Basic Math Operations**"
      ]
    },
    {
      "cell_type": "code",
      "execution_count": 21,
      "metadata": {},
      "outputs": [
        {
          "name": "stdout",
          "output_type": "stream",
          "text": [
            "Addition  29\n",
            "Subtraction  1\n",
            "Multiplication  190\n",
            "Division 5.0\n",
            "exponent 8\n"
          ]
        }
      ],
      "source": [
        "print(\"Addition \", 10+19)\n",
        "print(\"Subtraction \", 20-19)\n",
        "print(\"Multiplication \", 19*10)\n",
        "print(\"Division\", 10/2)\n",
        "print(\"exponent\", 2**3)\n"
      ]
    },
    {
      "cell_type": "markdown",
      "metadata": {},
      "source": [
        "## **Data Collections**"
      ]
    },
    {
      "cell_type": "markdown",
      "metadata": {},
      "source": [
        "### List"
      ]
    },
    {
      "cell_type": "code",
      "execution_count": 56,
      "metadata": {},
      "outputs": [
        {
          "name": "stdout",
          "output_type": "stream",
          "text": [
            "['Quant', 'Connect', 1, 2, 3]\n"
          ]
        }
      ],
      "source": [
        "myList = ['Quant', 'Connect', 1, 2, 3]\n",
        "print(myList)"
      ]
    },
    {
      "cell_type": "markdown",
      "metadata": {},
      "source": [
        "**Getting list items and the len function**"
      ]
    },
    {
      "cell_type": "code",
      "execution_count": 44,
      "metadata": {},
      "outputs": [
        {
          "name": "stdout",
          "output_type": "stream",
          "text": [
            "['Python', 1, 2, 3, 'Tutorial']\n",
            "List's length: 5\n",
            "Item at index 0: Python\n",
            "Last element of list: Tutorial\n"
          ]
        }
      ],
      "source": [
        "myList2 = [\"Python\",1,2,3,\"Tutorial\"]\n",
        "print(myList2)\n",
        "print(\"List's length:\", len(myList2))\n",
        "print(\"Item at index 0:\", myList2[0])\n",
        "print(\"Last element of list:\", myList2[len(myList2) - 1])"
      ]
    },
    {
      "cell_type": "markdown",
      "metadata": {},
      "source": [
        "**Slicing a list**"
      ]
    },
    {
      "cell_type": "code",
      "execution_count": 40,
      "metadata": {},
      "outputs": [
        {
          "name": "stdout",
          "output_type": "stream",
          "text": [
            "Only numbers [1, 2, 3]\n",
            "Without first item [1, 2, 3, 'Tutorial']\n",
            "Without last item ['Python', 1, 2, 3]\n"
          ]
        }
      ],
      "source": [
        "print(\"Only numbers\",  myList2[1:4])\n",
        "print(\"Without first item\", myList2[1:])\n",
        "print(\"Without last item\", myList2[:4])"
      ]
    },
    {
      "cell_type": "markdown",
      "metadata": {},
      "source": [
        "**The append and remove functions over lists**"
      ]
    },
    {
      "cell_type": "code",
      "execution_count": 49,
      "metadata": {},
      "outputs": [
        {
          "name": "stdout",
          "output_type": "stream",
          "text": [
            "['Hello', 'Quant', 'Hello']\n",
            "['Quant', 'Hello']\n"
          ]
        }
      ],
      "source": [
        "myList3 = ['Hello', 'Quant']\n",
        "myList3.append('Hello')\n",
        "print(myList3)\n",
        "myList3.remove('Hello')\n",
        "print(myList3)"
      ]
    },
    {
      "cell_type": "code",
      "execution_count": 48,
      "metadata": {},
      "outputs": [
        {
          "name": "stdout",
          "output_type": "stream",
          "text": [
            "Initial list: [1, 2, 3, 4]\n",
            "Adding 5 to the end:  [1, 2, 3, 4, 5]\n",
            "Removing 2 from the list:  [1, 3, 4, 5]\n"
          ]
        }
      ],
      "source": [
        "myList4 = [1,2,3,4]\n",
        "print(\"Initial list:\", myList4)\n",
        "myList4.append(5)\n",
        "print(\"Adding 5 to the end: \", myList4)\n",
        "myList4.remove(2)\n",
        "print(\"Removing 2 from the list: \", myList4)"
      ]
    },
    {
      "cell_type": "markdown",
      "metadata": {},
      "source": [
        "### Tuple"
      ]
    },
    {
      "cell_type": "code",
      "execution_count": 50,
      "metadata": {},
      "outputs": [],
      "source": [
        "myTuple = ('Welcome', 'to', 'QuantConnect')"
      ]
    },
    {
      "cell_type": "code",
      "execution_count": 51,
      "metadata": {},
      "outputs": [
        {
          "name": "stdout",
          "output_type": "stream",
          "text": [
            "Should throws an exeption:\n"
          ]
        },
        {
          "ename": "TypeError",
          "evalue": "'tuple' object does not support item assignment",
          "output_type": "error",
          "traceback": [
            "\u001b[0;31m---------------------------------------------------------------------------\u001b[0m",
            "\u001b[0;31mTypeError\u001b[0m                                 Traceback (most recent call last)",
            "\u001b[0;32m/tmp/ipykernel_457/1053987558.py\u001b[0m in \u001b[0;36m<module>\u001b[0;34m\u001b[0m\n\u001b[1;32m      1\u001b[0m \u001b[0mmyTuple2\u001b[0m \u001b[0;34m=\u001b[0m \u001b[0;34m(\u001b[0m\u001b[0;36m1\u001b[0m\u001b[0;34m,\u001b[0m\u001b[0;36m2\u001b[0m\u001b[0;34m,\u001b[0m\u001b[0;36m3\u001b[0m\u001b[0;34m)\u001b[0m\u001b[0;34m\u001b[0m\u001b[0;34m\u001b[0m\u001b[0m\n\u001b[1;32m      2\u001b[0m \u001b[0mprint\u001b[0m\u001b[0;34m(\u001b[0m\u001b[0;34m\"Should throws an exeption:\"\u001b[0m\u001b[0;34m)\u001b[0m\u001b[0;34m\u001b[0m\u001b[0;34m\u001b[0m\u001b[0m\n\u001b[0;32m----> 3\u001b[0;31m \u001b[0mmyTuple2\u001b[0m\u001b[0;34m[\u001b[0m\u001b[0;36m1\u001b[0m\u001b[0;34m]\u001b[0m \u001b[0;34m=\u001b[0m \u001b[0;36m3\u001b[0m\u001b[0;34m\u001b[0m\u001b[0;34m\u001b[0m\u001b[0m\n\u001b[0m",
            "\u001b[0;31mTypeError\u001b[0m: 'tuple' object does not support item assignment"
          ]
        }
      ],
      "source": [
        "myTuple2 = (1,2,3)\n",
        "print(\"Should throws an exeption:\")\n",
        "myTuple2[1] = 3"
      ]
    },
    {
      "cell_type": "markdown",
      "metadata": {},
      "source": [
        "### Set"
      ]
    },
    {
      "cell_type": "code",
      "execution_count": 53,
      "metadata": {},
      "outputs": [
        {
          "name": "stdout",
          "output_type": "stream",
          "text": [
            "{'IBM', 'F', 'FB', 'AAPL', 'GOOG'}\n"
          ]
        }
      ],
      "source": [
        "stockList = ['AAPL', 'GOOG', 'IBM', 'AAPL', 'IBM', 'FB', 'F', 'GOOG']\n",
        "stockSet = set(stockList)\n",
        "print(stockSet)\n"
      ]
    },
    {
      "cell_type": "code",
      "execution_count": 54,
      "metadata": {},
      "outputs": [
        {
          "name": "stdout",
          "output_type": "stream",
          "text": [
            "List without repeated elements:  {0, 1, 2, 3, 5, 8}\n"
          ]
        }
      ],
      "source": [
        "myList5 = [0,0,1,1,2,3,5,8]\n",
        "mySet = set(myList5)\n",
        "print(\"List without repeated elements: \", mySet)"
      ]
    },
    {
      "cell_type": "markdown",
      "metadata": {},
      "source": [
        "### Dictionary"
      ]
    },
    {
      "cell_type": "code",
      "execution_count": null,
      "metadata": {},
      "outputs": [],
      "source": [
        "myDic = {'AAPL': 'Apple', 'FB': 'FaceBook', 'GOOG': 'Alphabet'}\n",
        "print(myDic['GOOG'])"
      ]
    },
    {
      "cell_type": "markdown",
      "metadata": {},
      "source": [
        "#### Getting the keys from a dictionary"
      ]
    },
    {
      "cell_type": "code",
      "execution_count": 59,
      "metadata": {},
      "outputs": [
        {
          "name": "stdout",
          "output_type": "stream",
          "text": [
            "{0, 1, 2, 3, 5, 8}\n",
            "Python basic data structures (keys):  dict_keys(['List', 'Set', 'Tuple'])\n"
          ]
        }
      ],
      "source": [
        "myDic2 = {'List': myList, 'Set': mySet, 'Tuple': myTuple}\n",
        "print(myDic2['Set'])\n",
        "print(\"Python basic data structures (keys): \", myDic2.keys())\n"
      ]
    },
    {
      "cell_type": "markdown",
      "metadata": {},
      "source": [
        "## **Common String Operations**"
      ]
    },
    {
      "cell_type": "markdown",
      "metadata": {},
      "source": [
        "### Slicing strings"
      ]
    },
    {
      "cell_type": "code",
      "execution_count": 61,
      "metadata": {},
      "outputs": [
        {
          "name": "stdout",
          "output_type": "stream",
          "text": [
            "to QuantConnect\n"
          ]
        }
      ],
      "source": [
        "myString8 = 'Welcome to QuantConnect'\n",
        "print(myString8[8:])"
      ]
    },
    {
      "cell_type": "code",
      "execution_count": 65,
      "metadata": {},
      "outputs": [
        {
          "name": "stdout",
          "output_type": "stream",
          "text": [
            "come\n",
            "to \n",
            "Quant\n"
          ]
        }
      ],
      "source": [
        "print(myString8[3:7])\n",
        "print(myString8[8:11])\n",
        "print(myString8[11:16])\n"
      ]
    },
    {
      "cell_type": "markdown",
      "metadata": {},
      "source": [
        "### The count, find and replace functions over strings"
      ]
    },
    {
      "cell_type": "code",
      "execution_count": 75,
      "metadata": {},
      "outputs": [
        {
          "name": "stdout",
          "output_type": "stream",
          "text": [
            "Counting the number of i's in this sentence: 4\n",
            "The first time a appears in this sentence: 15\n",
            "All the i in this sentence now becomes X: all the a Xn thXs sentence now becomes X\n"
          ]
        }
      ],
      "source": [
        "print(\"Counting the number of i's in this sentence:\", \"Counting the number of i's in this sentence\".count('i'))\n",
        "print('The first time a appears in this sentence:', 'The first time a appears in this sentence'.find('a'))\n",
        "print('All the i in this sentence now becomes X:', 'all the a in this sentence now becomes X'.replace('i', 'X'))\n"
      ]
    },
    {
      "cell_type": "markdown",
      "metadata": {},
      "source": [
        "### The split functions"
      ]
    },
    {
      "cell_type": "code",
      "execution_count": 76,
      "metadata": {},
      "outputs": [
        {
          "name": "stdout",
          "output_type": "stream",
          "text": [
            "a o\n"
          ]
        }
      ],
      "source": [
        "vowels = 'a-e-i-o-u'\n",
        "splitedVowels = vowels.split('-')\n",
        "a = splitedVowels[0]\n",
        "o = splitedVowels[3]\n",
        "print(a, o)"
      ]
    },
    {
      "cell_type": "markdown",
      "metadata": {},
      "source": [
        "### Formatting strings"
      ]
    },
    {
      "cell_type": "code",
      "execution_count": 77,
      "metadata": {},
      "outputs": [
        {
          "name": "stdout",
          "output_type": "stream",
          "text": [
            "2 x 3 - 2 = 4\n"
          ]
        }
      ],
      "source": [
        "operation = '2 x 3 - 2 = {}'.format(4)\n",
        "print(operation)"
      ]
    }
  ],
  "metadata": {
    "colab": {
      "name": "dmedinao_QuanconnectTutortials.ipynb",
      "provenance": [],
      "toc_visible": true
    },
    "interpreter": {
      "hash": "916dbcbb3f70747c44a77c7bcd40155683ae19c65e1c03b4aa3499c5328201f1"
    },
    "kernelspec": {
      "display_name": "Python 3.8.10 64-bit",
      "name": "python3"
    },
    "language_info": {
      "codemirror_mode": {
        "name": "ipython",
        "version": 3
      },
      "file_extension": ".py",
      "mimetype": "text/x-python",
      "name": "python",
      "nbconvert_exporter": "python",
      "pygments_lexer": "ipython3",
      "version": "3.8.10"
    },
    "orig_nbformat": 4
  },
  "nbformat": 4,
  "nbformat_minor": 0
}
