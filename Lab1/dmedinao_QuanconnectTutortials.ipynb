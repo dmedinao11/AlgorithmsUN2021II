{
  "cells": [
    {
      "cell_type": "markdown",
      "metadata": {
        "id": "TkOsaeuHlXTi"
      },
      "source": [
        "# **Lab in Google Colab**"
      ]
    },
    {
      "cell_type": "markdown",
      "metadata": {
        "id": "orml8Ex3lnBp"
      },
      "source": [
        "# ***1. Data Types and Data Structures***"
      ]
    },
    {
      "cell_type": "markdown",
      "metadata": {
        "id": "pCXoSfn0mVOV"
      },
      "source": [
        "## **Basic Variable Types**"
      ]
    },
    {
      "cell_type": "markdown",
      "metadata": {},
      "source": [
        "### Strings"
      ]
    },
    {
      "cell_type": "code",
      "execution_count": 4,
      "metadata": {
        "colab": {
          "base_uri": "https://localhost:8080/"
        },
        "id": "LY5excpCmBIF",
        "outputId": "96c0bfd1-5213-4798-adcc-b4c3b7e5e6ff"
      },
      "outputs": [
        {
          "name": "stdout",
          "output_type": "stream",
          "text": [
            "Welcome to QuantConnect\n"
          ]
        }
      ],
      "source": [
        "myString1 = \"Welcome to\"\n",
        "myString2 = 'QuantConnect'\n",
        "print(myString1 + ' ' + myString2)"
      ]
    },
    {
      "cell_type": "code",
      "execution_count": 3,
      "metadata": {
        "colab": {
          "base_uri": "https://localhost:8080/"
        },
        "id": "uQVGpqpcmaQ9",
        "outputId": "79d09dcb-b94c-4be7-9df3-bdbb21793cec"
      },
      "outputs": [
        {
          "name": "stdout",
          "output_type": "stream",
          "text": [
            "Daniel says:\n",
            "Hi everybody in algorithms class!\n"
          ]
        }
      ],
      "source": [
        "myString3 = 'Daniel says:'\n",
        "myString4 = \"Hi everybody in algorithms class!\"\n",
        "print(myString3 + \"\\n\" + myString4)"
      ]
    },
    {
      "cell_type": "markdown",
      "metadata": {},
      "source": [
        "### Integers"
      ]
    },
    {
      "cell_type": "code",
      "execution_count": 19,
      "metadata": {
        "colab": {
          "base_uri": "https://localhost:8080/"
        },
        "id": "z1acB5gZm8KS",
        "outputId": "6863f36b-a88d-4d22-e0e9-f6484f587c7f"
      },
      "outputs": [
        {
          "name": "stdout",
          "output_type": "stream",
          "text": [
            "10\n",
            "<class 'int'>\n"
          ]
        }
      ],
      "source": [
        "myInt1 = 10\n",
        "print(myInt1)\n",
        "print(type(myInt1))"
      ]
    },
    {
      "cell_type": "code",
      "execution_count": 6,
      "metadata": {
        "colab": {
          "base_uri": "https://localhost:8080/"
        },
        "id": "vQTXYm4bnDQb",
        "outputId": "e3069582-d846-484e-a102-12f09b8b9f6f"
      },
      "outputs": [
        {
          "name": "stdout",
          "output_type": "stream",
          "text": [
            "902\n",
            "<class 'int'>\n"
          ]
        }
      ],
      "source": [
        "myInt2 = 902\n",
        "print(myInt2)\n",
        "print(type(myInt2))"
      ]
    },
    {
      "cell_type": "code",
      "execution_count": 1,
      "metadata": {},
      "outputs": [
        {
          "name": "stdout",
          "output_type": "stream",
          "text": [
            "<class 'str'>\n",
            "<class 'int'>\n"
          ]
        }
      ],
      "source": [
        "myString5 = \"100\"\n",
        "print(type(myString5))\n",
        "myInt5 = int(myString5)\n",
        "print(type(myInt5))"
      ]
    },
    {
      "cell_type": "code",
      "execution_count": 2,
      "metadata": {},
      "outputs": [
        {
          "name": "stdout",
          "output_type": "stream",
          "text": [
            "<class 'int'>\n"
          ]
        }
      ],
      "source": [
        "myString6 = \"1723\"\n",
        "myInt6 = int(myString6)\n",
        "print(type(myInt6))"
      ]
    },
    {
      "cell_type": "markdown",
      "metadata": {},
      "source": [
        "### Floats"
      ]
    },
    {
      "cell_type": "code",
      "execution_count": null,
      "metadata": {},
      "outputs": [],
      "source": [
        "myFloat1 = 1.0\n",
        "print(type(myFloat1))"
      ]
    },
    {
      "cell_type": "code",
      "execution_count": 11,
      "metadata": {},
      "outputs": [
        {
          "name": "stdout",
          "output_type": "stream",
          "text": [
            "Type <class 'float'>\n"
          ]
        }
      ],
      "source": [
        "myFloat2 = 3.1416\n",
        "print(\"Type \" + str(type(myFloat2)))"
      ]
    },
    {
      "cell_type": "code",
      "execution_count": 13,
      "metadata": {},
      "outputs": [
        {
          "name": "stdout",
          "output_type": "stream",
          "text": [
            "<class 'float'> 100.0\n"
          ]
        }
      ],
      "source": [
        "myString7 = \"100\"\n",
        "myFloat3 = float(myString7)\n",
        "print(type(myFloat3), myFloat3)\n"
      ]
    },
    {
      "cell_type": "markdown",
      "metadata": {},
      "source": [
        "### Booleans"
      ]
    },
    {
      "cell_type": "code",
      "execution_count": 15,
      "metadata": {},
      "outputs": [
        {
          "name": "stdout",
          "output_type": "stream",
          "text": [
            "False\n"
          ]
        }
      ],
      "source": [
        "myBool1 = False\n",
        "print(myBool1)"
      ]
    },
    {
      "cell_type": "code",
      "execution_count": 17,
      "metadata": {},
      "outputs": [
        {
          "name": "stdout",
          "output_type": "stream",
          "text": [
            "<class 'bool'>\n"
          ]
        }
      ],
      "source": [
        "myBool2 = True\n",
        "print(type(myBool2))\n"
      ]
    },
    {
      "cell_type": "markdown",
      "metadata": {},
      "source": [
        "## **Basic Math Operations**"
      ]
    },
    {
      "cell_type": "code",
      "execution_count": 21,
      "metadata": {},
      "outputs": [
        {
          "name": "stdout",
          "output_type": "stream",
          "text": [
            "Addition  29\n",
            "Subtraction  1\n",
            "Multiplication  190\n",
            "Division 5.0\n",
            "exponent 8\n"
          ]
        }
      ],
      "source": [
        "print(\"Addition \", 10+19)\n",
        "print(\"Subtraction \", 20-19)\n",
        "print(\"Multiplication \", 19*10)\n",
        "print(\"Division\", 10/2)\n",
        "print(\"exponent\", 2**3)\n"
      ]
    },
    {
      "cell_type": "markdown",
      "metadata": {},
      "source": [
        "## **Data Collections**"
      ]
    },
    {
      "cell_type": "markdown",
      "metadata": {},
      "source": [
        "### List"
      ]
    },
    {
      "cell_type": "code",
      "execution_count": 56,
      "metadata": {},
      "outputs": [
        {
          "name": "stdout",
          "output_type": "stream",
          "text": [
            "['Quant', 'Connect', 1, 2, 3]\n"
          ]
        }
      ],
      "source": [
        "myList = ['Quant', 'Connect', 1, 2, 3]\n",
        "print(myList)"
      ]
    },
    {
      "cell_type": "markdown",
      "metadata": {},
      "source": [
        "**Getting list items and the len function**"
      ]
    },
    {
      "cell_type": "code",
      "execution_count": 44,
      "metadata": {},
      "outputs": [
        {
          "name": "stdout",
          "output_type": "stream",
          "text": [
            "['Python', 1, 2, 3, 'Tutorial']\n",
            "List's length: 5\n",
            "Item at index 0: Python\n",
            "Last element of list: Tutorial\n"
          ]
        }
      ],
      "source": [
        "myList2 = [\"Python\",1,2,3,\"Tutorial\"]\n",
        "print(myList2)\n",
        "print(\"List's length:\", len(myList2))\n",
        "print(\"Item at index 0:\", myList2[0])\n",
        "print(\"Last element of list:\", myList2[len(myList2) - 1])"
      ]
    },
    {
      "cell_type": "markdown",
      "metadata": {},
      "source": [
        "**Slicing a list**"
      ]
    },
    {
      "cell_type": "code",
      "execution_count": 40,
      "metadata": {},
      "outputs": [
        {
          "name": "stdout",
          "output_type": "stream",
          "text": [
            "Only numbers [1, 2, 3]\n",
            "Without first item [1, 2, 3, 'Tutorial']\n",
            "Without last item ['Python', 1, 2, 3]\n"
          ]
        }
      ],
      "source": [
        "print(\"Only numbers\",  myList2[1:4])\n",
        "print(\"Without first item\", myList2[1:])\n",
        "print(\"Without last item\", myList2[:4])"
      ]
    },
    {
      "cell_type": "markdown",
      "metadata": {},
      "source": [
        "**The append and remove functions over lists**"
      ]
    },
    {
      "cell_type": "code",
      "execution_count": 49,
      "metadata": {},
      "outputs": [
        {
          "name": "stdout",
          "output_type": "stream",
          "text": [
            "['Hello', 'Quant', 'Hello']\n",
            "['Quant', 'Hello']\n"
          ]
        }
      ],
      "source": [
        "myList3 = ['Hello', 'Quant']\n",
        "myList3.append('Hello')\n",
        "print(myList3)\n",
        "myList3.remove('Hello')\n",
        "print(myList3)"
      ]
    },
    {
      "cell_type": "code",
      "execution_count": 48,
      "metadata": {},
      "outputs": [
        {
          "name": "stdout",
          "output_type": "stream",
          "text": [
            "Initial list: [1, 2, 3, 4]\n",
            "Adding 5 to the end:  [1, 2, 3, 4, 5]\n",
            "Removing 2 from the list:  [1, 3, 4, 5]\n"
          ]
        }
      ],
      "source": [
        "myList4 = [1,2,3,4]\n",
        "print(\"Initial list:\", myList4)\n",
        "myList4.append(5)\n",
        "print(\"Adding 5 to the end: \", myList4)\n",
        "myList4.remove(2)\n",
        "print(\"Removing 2 from the list: \", myList4)"
      ]
    },
    {
      "cell_type": "markdown",
      "metadata": {},
      "source": [
        "### Tuple"
      ]
    },
    {
      "cell_type": "code",
      "execution_count": 50,
      "metadata": {},
      "outputs": [],
      "source": [
        "myTuple = ('Welcome', 'to', 'QuantConnect')"
      ]
    },
    {
      "cell_type": "code",
      "execution_count": 51,
      "metadata": {},
      "outputs": [
        {
          "name": "stdout",
          "output_type": "stream",
          "text": [
            "Should throws an exeption:\n"
          ]
        },
        {
          "ename": "TypeError",
          "evalue": "'tuple' object does not support item assignment",
          "output_type": "error",
          "traceback": [
            "\u001b[0;31m---------------------------------------------------------------------------\u001b[0m",
            "\u001b[0;31mTypeError\u001b[0m                                 Traceback (most recent call last)",
            "\u001b[0;32m/tmp/ipykernel_457/1053987558.py\u001b[0m in \u001b[0;36m<module>\u001b[0;34m\u001b[0m\n\u001b[1;32m      1\u001b[0m \u001b[0mmyTuple2\u001b[0m \u001b[0;34m=\u001b[0m \u001b[0;34m(\u001b[0m\u001b[0;36m1\u001b[0m\u001b[0;34m,\u001b[0m\u001b[0;36m2\u001b[0m\u001b[0;34m,\u001b[0m\u001b[0;36m3\u001b[0m\u001b[0;34m)\u001b[0m\u001b[0;34m\u001b[0m\u001b[0;34m\u001b[0m\u001b[0m\n\u001b[1;32m      2\u001b[0m \u001b[0mprint\u001b[0m\u001b[0;34m(\u001b[0m\u001b[0;34m\"Should throws an exeption:\"\u001b[0m\u001b[0;34m)\u001b[0m\u001b[0;34m\u001b[0m\u001b[0;34m\u001b[0m\u001b[0m\n\u001b[0;32m----> 3\u001b[0;31m \u001b[0mmyTuple2\u001b[0m\u001b[0;34m[\u001b[0m\u001b[0;36m1\u001b[0m\u001b[0;34m]\u001b[0m \u001b[0;34m=\u001b[0m \u001b[0;36m3\u001b[0m\u001b[0;34m\u001b[0m\u001b[0;34m\u001b[0m\u001b[0m\n\u001b[0m",
            "\u001b[0;31mTypeError\u001b[0m: 'tuple' object does not support item assignment"
          ]
        }
      ],
      "source": [
        "myTuple2 = (1,2,3)\n",
        "print(\"Should throws an exeption:\")\n",
        "myTuple2[1] = 3"
      ]
    },
    {
      "cell_type": "markdown",
      "metadata": {},
      "source": [
        "### Set"
      ]
    },
    {
      "cell_type": "code",
      "execution_count": 53,
      "metadata": {},
      "outputs": [
        {
          "name": "stdout",
          "output_type": "stream",
          "text": [
            "{'IBM', 'F', 'FB', 'AAPL', 'GOOG'}\n"
          ]
        }
      ],
      "source": [
        "stockList = ['AAPL', 'GOOG', 'IBM', 'AAPL', 'IBM', 'FB', 'F', 'GOOG']\n",
        "stockSet = set(stockList)\n",
        "print(stockSet)\n"
      ]
    },
    {
      "cell_type": "code",
      "execution_count": 54,
      "metadata": {},
      "outputs": [
        {
          "name": "stdout",
          "output_type": "stream",
          "text": [
            "List without repeated elements:  {0, 1, 2, 3, 5, 8}\n"
          ]
        }
      ],
      "source": [
        "myList5 = [0,0,1,1,2,3,5,8]\n",
        "mySet = set(myList5)\n",
        "print(\"List without repeated elements: \", mySet)"
      ]
    },
    {
      "cell_type": "markdown",
      "metadata": {},
      "source": [
        "### Dictionary"
      ]
    },
    {
      "cell_type": "code",
      "execution_count": null,
      "metadata": {},
      "outputs": [],
      "source": [
        "myDic = {'AAPL': 'Apple', 'FB': 'FaceBook', 'GOOG': 'Alphabet'}\n",
        "print(myDic['GOOG'])"
      ]
    },
    {
      "cell_type": "markdown",
      "metadata": {},
      "source": [
        "#### Getting the keys from a dictionary"
      ]
    },
    {
      "cell_type": "code",
      "execution_count": 59,
      "metadata": {},
      "outputs": [
        {
          "name": "stdout",
          "output_type": "stream",
          "text": [
            "{0, 1, 2, 3, 5, 8}\n",
            "Python basic data structures (keys):  dict_keys(['List', 'Set', 'Tuple'])\n"
          ]
        }
      ],
      "source": [
        "myDic2 = {'List': myList, 'Set': mySet, 'Tuple': myTuple}\n",
        "print(myDic2['Set'])\n",
        "print(\"Python basic data structures (keys): \", myDic2.keys())\n"
      ]
    },
    {
      "cell_type": "markdown",
      "metadata": {},
      "source": [
        "## **Common String Operations**"
      ]
    },
    {
      "cell_type": "markdown",
      "metadata": {},
      "source": [
        "### Slicing strings"
      ]
    },
    {
      "cell_type": "code",
      "execution_count": 61,
      "metadata": {},
      "outputs": [
        {
          "name": "stdout",
          "output_type": "stream",
          "text": [
            "to QuantConnect\n"
          ]
        }
      ],
      "source": [
        "myString8 = 'Welcome to QuantConnect'\n",
        "print(myString8[8:])"
      ]
    },
    {
      "cell_type": "code",
      "execution_count": 65,
      "metadata": {},
      "outputs": [
        {
          "name": "stdout",
          "output_type": "stream",
          "text": [
            "come\n",
            "to \n",
            "Quant\n"
          ]
        }
      ],
      "source": [
        "print(myString8[3:7])\n",
        "print(myString8[8:11])\n",
        "print(myString8[11:16])\n"
      ]
    },
    {
      "cell_type": "markdown",
      "metadata": {},
      "source": [
        "### The count, find and replace functions over strings"
      ]
    },
    {
      "cell_type": "code",
      "execution_count": 75,
      "metadata": {},
      "outputs": [
        {
          "name": "stdout",
          "output_type": "stream",
          "text": [
            "Counting the number of i's in this sentence: 4\n",
            "The first time a appears in this sentence: 15\n",
            "All the i in this sentence now becomes X: all the a Xn thXs sentence now becomes X\n"
          ]
        }
      ],
      "source": [
        "print(\"Counting the number of i's in this sentence:\", \"Counting the number of i's in this sentence\".count('i'))\n",
        "print('The first time a appears in this sentence:', 'The first time a appears in this sentence'.find('a'))\n",
        "print('All the i in this sentence now becomes X:', 'all the a in this sentence now becomes X'.replace('i', 'X'))\n"
      ]
    },
    {
      "cell_type": "markdown",
      "metadata": {},
      "source": [
        "### The split functions"
      ]
    },
    {
      "cell_type": "code",
      "execution_count": 76,
      "metadata": {},
      "outputs": [
        {
          "name": "stdout",
          "output_type": "stream",
          "text": [
            "a o\n"
          ]
        }
      ],
      "source": [
        "vowels = 'a-e-i-o-u'\n",
        "splitedVowels = vowels.split('-')\n",
        "a = splitedVowels[0]\n",
        "o = splitedVowels[3]\n",
        "print(a, o)"
      ]
    },
    {
      "cell_type": "markdown",
      "metadata": {},
      "source": [
        "### Formatting strings"
      ]
    },
    {
      "cell_type": "code",
      "execution_count": 77,
      "metadata": {},
      "outputs": [
        {
          "name": "stdout",
          "output_type": "stream",
          "text": [
            "2 x 3 - 2 = 4\n"
          ]
        }
      ],
      "source": [
        "operation = '2 x 3 - 2 = {}'.format(4)\n",
        "print(operation)"
      ]
    },
    {
      "cell_type": "markdown",
      "metadata": {},
      "source": [
        "# ***2. Logical Operations and Loops***"
      ]
    },
    {
      "cell_type": "markdown",
      "metadata": {},
      "source": [
        "## **Logical Operations**"
      ]
    },
    {
      "cell_type": "markdown",
      "metadata": {},
      "source": [
        "### Basics logical operations"
      ]
    },
    {
      "cell_type": "code",
      "execution_count": 79,
      "metadata": {},
      "outputs": [
        {
          "name": "stdout",
          "output_type": "stream",
          "text": [
            "1 equals 0: False\n",
            "1 equals 1: True\n",
            "1 is not equal to 0: True\n",
            "5 is greater than or equal to 5: True\n",
            "5 is greater than or equal to 6: False\n"
          ]
        }
      ],
      "source": [
        "print (\"1 equals 0:\", 1 == 0)    \n",
        "print (\"1 equals 1:\", 1 == 1)    \n",
        "print (\"1 is not equal to 0:\", 1 != 0)    \n",
        "print (\"5 is greater than or equal to 5:\", 5 >= 5)    \n",
        "print (\"5 is greater than or equal to 6:\", 5 >= 6)    \n"
      ]
    },
    {
      "cell_type": "markdown",
      "metadata": {},
      "source": [
        "### The *'and'* and *'or'* logical operations"
      ]
    },
    {
      "cell_type": "code",
      "execution_count": 80,
      "metadata": {},
      "outputs": [
        {
          "name": "stdout",
          "output_type": "stream",
          "text": [
            "2 > 1 and 3 > 2: True\n",
            "2 > 1 and 3 < 2: False\n",
            "2 > 1 or  3 < 2: True\n",
            "2 < 1 and 3 < 2: False\n"
          ]
        }
      ],
      "source": [
        "print(\"2 > 1 and 3 > 2:\", 2 > 1 and 3 > 2)\n",
        "print(\"2 > 1 and 3 < 2:\", 2 > 1 and 3 < 2)\n",
        "print(\"2 > 1 or  3 < 2:\", 2 > 1 or  3 < 2)\n",
        "print(\"2 < 1 and 3 < 2:\", 2 < 1 and 3 < 2)"
      ]
    },
    {
      "cell_type": "markdown",
      "metadata": {},
      "source": [
        "## **If staments**"
      ]
    },
    {
      "cell_type": "code",
      "execution_count": null,
      "metadata": {},
      "outputs": [],
      "source": [
        "i = 0\n",
        "if i == 0:\n",
        "    print('i == 0 is True')"
      ]
    },
    {
      "cell_type": "markdown",
      "metadata": {},
      "source": [
        "### Complex use of if stament\n"
      ]
    },
    {
      "cell_type": "code",
      "execution_count": null,
      "metadata": {},
      "outputs": [],
      "source": [
        "userIsAuthenticated = True\n",
        "userIsAuthorized = False\n",
        "\n",
        "if userIsAuthenticated and not userIsAuthorized:\n",
        "    print(\"User is authenticated\")\n",
        "elif userIsAuthorized and not userIsAuthorized:\n",
        "    print(\"User is authorized\")\n",
        "elif userIsAuthorized and userIsAuthenticated:\n",
        "    print(\"User can pass!\")\n",
        "else:\n",
        "    print(\"Forbidden\")"
      ]
    },
    {
      "cell_type": "markdown",
      "metadata": {},
      "source": [
        "## **Loop Structure**"
      ]
    },
    {
      "cell_type": "markdown",
      "metadata": {},
      "source": [
        "### While"
      ]
    },
    {
      "cell_type": "code",
      "execution_count": 81,
      "metadata": {},
      "outputs": [
        {
          "name": "stdout",
          "output_type": "stream",
          "text": [
            "1\n",
            "2\n",
            "3\n",
            "4\n",
            "5\n"
          ]
        }
      ],
      "source": [
        "i = 1\n",
        "while i % 6 != 0:\n",
        "    print(i)\n",
        "    i += 1\n"
      ]
    },
    {
      "cell_type": "markdown",
      "metadata": {},
      "source": [
        "### For"
      ]
    },
    {
      "cell_type": "code",
      "execution_count": 83,
      "metadata": {},
      "outputs": [
        {
          "name": "stdout",
          "output_type": "stream",
          "text": [
            "1\n",
            "4\n",
            "27\n",
            "256\n",
            "3125\n"
          ]
        }
      ],
      "source": [
        "for x in [1, 2, 3, 4, 5]:\n",
        "    print(x**x)\n"
      ]
    },
    {
      "cell_type": "markdown",
      "metadata": {},
      "source": [
        "#### Break instruction"
      ]
    },
    {
      "cell_type": "code",
      "execution_count": 84,
      "metadata": {},
      "outputs": [
        {
          "name": "stdout",
          "output_type": "stream",
          "text": [
            "AAPL\n",
            "GOOG\n",
            "IBM\n",
            "FB\n",
            "F\n"
          ]
        }
      ],
      "source": [
        "stocks = ['AAPL', 'GOOG', 'IBM', 'FB', 'F', 'V', 'G', 'GE']\n",
        "\n",
        "for stock in stocks:\n",
        "    if stock == 'V' or stock == 'G':\n",
        "        break\n",
        "    print(stock)"
      ]
    },
    {
      "cell_type": "markdown",
      "metadata": {},
      "source": [
        "#### Continue instruction"
      ]
    },
    {
      "cell_type": "code",
      "execution_count": 85,
      "metadata": {},
      "outputs": [
        {
          "name": "stdout",
          "output_type": "stream",
          "text": [
            "F\n",
            "V\n",
            "G\n"
          ]
        }
      ],
      "source": [
        "stocks = ['AAPL', 'GOOG', 'IBM', 'FB', 'F', 'V', 'G', 'GE']\n",
        "\n",
        "for stock in stocks:\n",
        "    if len(stock) > 1:\n",
        "        continue\n",
        "    print(stock)\n"
      ]
    },
    {
      "cell_type": "markdown",
      "metadata": {},
      "source": [
        "## **List Comprehension**"
      ]
    },
    {
      "cell_type": "code",
      "execution_count": 87,
      "metadata": {},
      "outputs": [
        {
          "name": "stdout",
          "output_type": "stream",
          "text": [
            "[4, 16, 36, 64, 100]\n"
          ]
        }
      ],
      "source": [
        "numbers = [1, 2, 3, 4, 5, 6, 7, 8, 9, 10]\n",
        "squaresOfEvenNumbers = [x**2 for x in numbers if x % 2 == 0]\n",
        "print(squaresOfEvenNumbers)\n"
      ]
    },
    {
      "cell_type": "markdown",
      "metadata": {},
      "source": [
        "### Complex list comprehension use case"
      ]
    },
    {
      "cell_type": "code",
      "execution_count": 92,
      "metadata": {},
      "outputs": [
        {
          "name": "stdout",
          "output_type": "stream",
          "text": [
            "['AAPL vs GOOG', 'AAPL vs IBM', 'AAPL vs FB', 'GOOG vs AAPL', 'GOOG vs IBM', 'GOOG vs FB', 'IBM vs AAPL', 'IBM vs GOOG', 'IBM vs FB', 'FB vs AAPL', 'FB vs GOOG', 'FB vs IBM']\n"
          ]
        }
      ],
      "source": [
        "stocks = ['AAPL','GOOG','IBM','FB']\n",
        "versusStocks = [x + ' vs ' + y for x in stocks for y in stocks if x != y]\n",
        "print(versusStocks)"
      ]
    },
    {
      "cell_type": "markdown",
      "metadata": {},
      "source": [
        "# ***3. Functions and Objective-Oriented Programming***"
      ]
    },
    {
      "cell_type": "markdown",
      "metadata": {},
      "source": [
        "## **Functions**"
      ]
    },
    {
      "cell_type": "code",
      "execution_count": 94,
      "metadata": {},
      "outputs": [
        {
          "name": "stdout",
          "output_type": "stream",
          "text": [
            "2 X 7 = 14\n",
            "19 X 10 = 190\n"
          ]
        }
      ],
      "source": [
        "def formatProduct(x, y):\n",
        "    return \"{} X {} = {}\".format(x, y, x*y)\n",
        "\n",
        "print(formatProduct(2,7))\n",
        "print(formatProduct(19,10))"
      ]
    },
    {
      "cell_type": "markdown",
      "metadata": {},
      "source": [
        "## **Built-in Function**"
      ]
    },
    {
      "cell_type": "markdown",
      "metadata": {},
      "source": [
        "### range() function"
      ]
    },
    {
      "cell_type": "code",
      "execution_count": 103,
      "metadata": {},
      "outputs": [
        {
          "name": "stdout",
          "output_type": "stream",
          "text": [
            "Numbers from 0 to 10: [0, 1, 2, 3, 4, 5, 6, 7, 8, 9, 10]\n",
            "Odd numbers between 1 and 20: [1, 3, 5, 7, 9, 11, 13, 15, 17, 19]\n",
            "Even numbers between 100 and 120: [100, 102, 104, 106, 108, 110, 112, 114, 116, 118, 120]\n"
          ]
        }
      ],
      "source": [
        "print(\"Numbers from 0 to 10:\", [x for x in range(11)])\n",
        "print(\"Odd numbers between 1 and 20:\", [x for x in range(1,21,2)])\n",
        "print(\"Even numbers between 100 and 120:\", [x for x in range(100, 121, 2)])"
      ]
    },
    {
      "cell_type": "markdown",
      "metadata": {},
      "source": [
        "### len() function"
      ]
    },
    {
      "cell_type": "code",
      "execution_count": 104,
      "metadata": {},
      "outputs": [
        {
          "name": "stdout",
          "output_type": "stream",
          "text": [
            "The number of stocks is 8\n",
            "1 AAPL\n",
            "2 GOOGL\n",
            "3 IBM\n",
            "4 FB\n",
            "5 F\n",
            "6 V\n",
            "7 G\n",
            "8 GE\n"
          ]
        }
      ],
      "source": [
        "stocks = ['AAPL', 'GOOGL', 'IBM', 'FB', 'F', 'V', 'G', 'GE']\n",
        "print(\"The number of stocks is {}\".format(len(stocks)))\n",
        "for s in range(len(stocks)):\n",
        "    print(s + 1, stocks[s])\n"
      ]
    },
    {
      "cell_type": "markdown",
      "metadata": {},
      "source": [
        "### map() function"
      ]
    },
    {
      "cell_type": "code",
      "execution_count": 107,
      "metadata": {},
      "outputs": [
        {
          "name": "stdout",
          "output_type": "stream",
          "text": [
            "['Odd', 'Even', 'Odd', 'Even', 'Odd', 'Even', 'Odd', 'Even', 'Odd', 'Even']\n"
          ]
        }
      ],
      "source": [
        "def evenOrOdd(x):\n",
        "    return 'Even' if x % 2 == 0 else 'Odd'\n",
        "\n",
        "numbers = [1, 2, 3, 4, 5, 6, 7, 8, 9, 10]\n",
        "print(list(map(evenOrOdd, numbers)))"
      ]
    },
    {
      "cell_type": "markdown",
      "metadata": {},
      "source": [
        "### Lambda functios"
      ]
    },
    {
      "cell_type": "code",
      "execution_count": 117,
      "metadata": {},
      "outputs": [
        {
          "name": "stdout",
          "output_type": "stream",
          "text": [
            "Square of the first 10 numbers: [0, 1, 4, 9, 16, 25, 36, 49, 64, 81]\n",
            "[6, 6, 6, 6, 6]\n",
            "[12, 12, 12, 12, 12, 12, 12, 12, 12, 12]\n"
          ]
        }
      ],
      "source": [
        "print(\"Square of the first 10 numbers:\", list(map(lambda x: x**2, range(10))))\n",
        "print(list(map(lambda x, y: x+y, [1, 2, 3, 4, 5], [5, 4, 3, 2, 1])))\n",
        "print(list(map(lambda x, y: x+y, range(11, 1, -1), range(1, 11))))\n"
      ]
    },
    {
      "cell_type": "markdown",
      "metadata": {},
      "source": [
        "## **Object-Oriented Programming**"
      ]
    },
    {
      "cell_type": "markdown",
      "metadata": {},
      "source": [
        "### Classes\n"
      ]
    },
    {
      "cell_type": "code",
      "execution_count": 122,
      "metadata": {},
      "outputs": [
        {
          "name": "stdout",
          "output_type": "stream",
          "text": [
            "[\n",
            "\tname: COP\n",
            "\tcountry: Colombia\n",
            "\tvalueInUSD: 0.33\n",
            "]\n"
          ]
        }
      ],
      "source": [
        "class Currency:\n",
        "    def __init__(self, name, country, valueInUSD):\n",
        "        self.name = name\n",
        "        self.country = country\n",
        "        self.valueInUSD = valueInUSD\n",
        "\n",
        "    def printCurrency(self):\n",
        "        print(\"[\\n\\tname: {}\\n\\tcountry: {}\\n\\tvalueInUSD: {}\\n]\".format(\n",
        "            self.name, self.country, self.valueInUSD))\n",
        "\n",
        "\n",
        "cop = Currency('COP', \"Colombia\", 0.33)\n",
        "cop.printCurrency()\n"
      ]
    },
    {
      "cell_type": "code",
      "execution_count": null,
      "metadata": {},
      "outputs": [],
      "source": []
    },
    {
      "cell_type": "markdown",
      "metadata": {},
      "source": [
        "# ***4. NumPy and Basic Pandas***"
      ]
    },
    {
      "cell_type": "markdown",
      "metadata": {},
      "source": [
        "## **NumPy**"
      ]
    },
    {
      "cell_type": "code",
      "execution_count": 125,
      "metadata": {},
      "outputs": [],
      "source": [
        "import numpy as np"
      ]
    },
    {
      "cell_type": "markdown",
      "metadata": {},
      "source": [
        "### Arrays in NumPy"
      ]
    },
    {
      "cell_type": "code",
      "execution_count": 126,
      "metadata": {},
      "outputs": [
        {
          "name": "stdout",
          "output_type": "stream",
          "text": [
            "[143.73 145.83 143.68 144.02 143.5  142.62] <class 'numpy.ndarray'>\n"
          ]
        }
      ],
      "source": [
        "priceList = [143.73, 145.83, 143.68, 144.02, 143.5, 142.62]\n",
        "priceArray = np.array(priceList)\n",
        "print(priceArray, type(priceArray))"
      ]
    },
    {
      "cell_type": "code",
      "execution_count": 129,
      "metadata": {},
      "outputs": [
        {
          "name": "stdout",
          "output_type": "stream",
          "text": [
            "Array: [[1 2]\n",
            " [3 4]] \n",
            "Type: <class 'numpy.ndarray'> \n",
            "Shape: (2, 2)\n"
          ]
        }
      ],
      "source": [
        "twoDimensionalList = [[1, 2], [3, 4]]\n",
        "twoDimensionalArray = np.array(twoDimensionalList)\n",
        "print(\"Array:\",twoDimensionalArray, \"\\nType:\", type(twoDimensionalArray),\n",
        "      \"\\nShape:\", twoDimensionalArray.shape)\n"
      ]
    },
    {
      "cell_type": "code",
      "execution_count": 133,
      "metadata": {},
      "outputs": [
        {
          "name": "stdout",
          "output_type": "stream",
          "text": [
            "First row [1 2]\n",
            "Second column [2 4]\n"
          ]
        }
      ],
      "source": [
        "print(\"First row\",twoDimensionalArray[0])\n",
        "print(\"Second column\",twoDimensionalArray[:,1])"
      ]
    },
    {
      "cell_type": "markdown",
      "metadata": {},
      "source": [
        "### Array functions"
      ]
    },
    {
      "cell_type": "code",
      "execution_count": 134,
      "metadata": {},
      "outputs": [
        {
          "name": "stdout",
          "output_type": "stream",
          "text": [
            "Mean of prices: 143.89666666666668\n",
            "Standar derivation of prices: 0.9673790478515796\n",
            "Total sum of prices: 863.38\n",
            "Max price on list 145.83\n"
          ]
        }
      ],
      "source": [
        "print(\"Mean of prices:\",np.mean(priceArray))\n",
        "print(\"Standar derivation of prices:\",np.std(priceArray))\n",
        "print(\"Total sum of prices:\",np.sum(priceArray))\n",
        "print(\"Max price on list\",np.max(priceArray))"
      ]
    },
    {
      "cell_type": "markdown",
      "metadata": {},
      "source": [
        "## **Pandas**"
      ]
    },
    {
      "cell_type": "code",
      "execution_count": 135,
      "metadata": {},
      "outputs": [],
      "source": [
        "import pandas as pd"
      ]
    },
    {
      "cell_type": "markdown",
      "metadata": {},
      "source": [
        "### Series"
      ]
    },
    {
      "cell_type": "code",
      "execution_count": 138,
      "metadata": {},
      "outputs": [
        {
          "name": "stdout",
          "output_type": "stream",
          "text": [
            "1.    143.73\n",
            "2.    145.83\n",
            "3.    143.68\n",
            "4.    144.02\n",
            "5.    143.50\n",
            "6.    142.62\n",
            "dtype: float64\n"
          ]
        }
      ],
      "source": [
        "s = pd.Series(priceList)\n",
        "s.index = [\"1.\",\"2.\",\"3.\",\"4.\",\"5.\",\"6.\"]\n",
        "print(s)"
      ]
    },
    {
      "cell_type": "code",
      "execution_count": 142,
      "metadata": {},
      "outputs": [
        {
          "name": "stdout",
          "output_type": "stream",
          "text": [
            "Serie withot the first two:\n",
            " 3.    143.68\n",
            "4.    144.02\n",
            "5.    143.50\n",
            "6.    142.62\n",
            "dtype: float64\n",
            "\n",
            "Serie withot the last three:\n",
            " 1.    143.73\n",
            "2.    145.83\n",
            "3.    143.68\n",
            "dtype: float64\n"
          ]
        }
      ],
      "source": [
        "print(\"Serie withot the first two:\\n\",s[2:],end=\"\\n\\n\")\n",
        "print(\"Serie withot the last three:\\n\",s[:-3])\n"
      ]
    },
    {
      "cell_type": "code",
      "execution_count": 143,
      "metadata": {},
      "outputs": [
        {
          "name": "stdout",
          "output_type": "stream",
          "text": [
            "1.    143.73\n",
            "2.    145.83\n",
            "3.    143.68\n",
            "4.    144.02\n",
            "5.    143.50\n",
            "6.    142.62\n",
            "Name: Alphabet Stock prices, dtype: float64\n"
          ]
        }
      ],
      "source": [
        "s.name = \"Alphabet Stock prices\"\n",
        "print(s)"
      ]
    },
    {
      "cell_type": "markdown",
      "metadata": {},
      "source": [
        "#### Series.describe()"
      ]
    },
    {
      "cell_type": "code",
      "execution_count": 144,
      "metadata": {},
      "outputs": [
        {
          "name": "stdout",
          "output_type": "stream",
          "text": [
            "count      6.000000\n",
            "mean     143.896667\n",
            "std        1.059711\n",
            "min      142.620000\n",
            "25%      143.545000\n",
            "50%      143.705000\n",
            "75%      143.947500\n",
            "max      145.830000\n",
            "Name: Alphabet Stock prices, dtype: float64\n"
          ]
        }
      ],
      "source": [
        "print(s.describe())"
      ]
    },
    {
      "cell_type": "markdown",
      "metadata": {},
      "source": [
        "#### pd.data_range()"
      ]
    },
    {
      "cell_type": "code",
      "execution_count": 158,
      "metadata": {},
      "outputs": [
        {
          "name": "stdout",
          "output_type": "stream",
          "text": [
            "2021-10-11    143.73\n",
            "2021-10-12    145.83\n",
            "2021-10-13    143.68\n",
            "2021-10-14    144.02\n",
            "2021-10-15    143.50\n",
            "2021-10-16    142.62\n",
            "Freq: D, Name: Alphabet stock price in the last week, dtype: float64\n"
          ]
        }
      ],
      "source": [
        "time_range = pd.date_range('2021-10-11', periods=len(s), freq='D')\n",
        "s.index = time_range\n",
        "s.name = \"Alphabet stock price in the last week\"\n",
        "print(s)\n"
      ]
    },
    {
      "cell_type": "markdown",
      "metadata": {},
      "source": [
        "#### Slicing series in Pandas"
      ]
    },
    {
      "cell_type": "code",
      "execution_count": 160,
      "metadata": {},
      "outputs": [
        {
          "name": "stdout",
          "output_type": "stream",
          "text": [
            "Price on the first day: 145.83\n",
            "Price on 2021-10-14: 144.02\n",
            "Price between 2021-10-12 and 2021-10-15:\n",
            "\n",
            " 2021-10-12    145.83\n",
            "2021-10-13    143.68\n",
            "2021-10-14    144.02\n",
            "2021-10-15    143.50\n",
            "2021-10-16    142.62\n",
            "Freq: D, Name: Alphabet stock price in the last week, dtype: float64\n"
          ]
        }
      ],
      "source": [
        "print(\"Price on the first day:\", s[1])\n",
        "print(\"Price on 2021-10-14:\", s[\"2021-10-14\"])\n",
        "print(\"Price between 2021-10-12 and 2021-10-15:\\n\\n\",\n",
        "      s[\"2021-10-12\": \"2021-10-16\"])\n"
      ]
    },
    {
      "cell_type": "markdown",
      "metadata": {},
      "source": [
        "#### Indexing series"
      ]
    },
    {
      "cell_type": "code",
      "execution_count": 162,
      "metadata": {},
      "outputs": [
        {
          "name": "stdout",
          "output_type": "stream",
          "text": [
            "Higher than mean prices\n",
            " 2021-10-12    145.83\n",
            "2021-10-14    144.02\n",
            "Name: Alphabet stock price in the last week, dtype: float64\n"
          ]
        }
      ],
      "source": [
        "print(\"Higher than mean prices\\n\", s[s >= np.mean(s)])"
      ]
    }
  ],
  "metadata": {
    "colab": {
      "name": "dmedinao_QuanconnectTutortials.ipynb",
      "provenance": [],
      "toc_visible": true
    },
    "interpreter": {
      "hash": "916dbcbb3f70747c44a77c7bcd40155683ae19c65e1c03b4aa3499c5328201f1"
    },
    "kernelspec": {
      "display_name": "Python 3.8.10 64-bit",
      "name": "python3"
    },
    "language_info": {
      "codemirror_mode": {
        "name": "ipython",
        "version": 3
      },
      "file_extension": ".py",
      "mimetype": "text/x-python",
      "name": "python",
      "nbconvert_exporter": "python",
      "pygments_lexer": "ipython3",
      "version": "3.8.10"
    },
    "orig_nbformat": 4
  },
  "nbformat": 4,
  "nbformat_minor": 0
}
