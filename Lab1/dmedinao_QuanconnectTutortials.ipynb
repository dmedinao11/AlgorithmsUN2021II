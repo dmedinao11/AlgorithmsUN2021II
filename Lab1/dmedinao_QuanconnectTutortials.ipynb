{
  "nbformat": 4,
  "nbformat_minor": 0,
  "metadata": {
    "interpreter": {
      "hash": "916dbcbb3f70747c44a77c7bcd40155683ae19c65e1c03b4aa3499c5328201f1"
    },
    "kernelspec": {
      "display_name": "Python 3.8.10 64-bit",
      "name": "python3"
    },
    "language_info": {
      "codemirror_mode": {
        "name": "ipython",
        "version": 3
      },
      "file_extension": ".py",
      "mimetype": "text/x-python",
      "name": "python",
      "nbconvert_exporter": "python",
      "pygments_lexer": "ipython3",
      "version": "3.8.10"
    },
    "orig_nbformat": 4,
    "colab": {
      "name": "dmedinao_QuanconnectTutortials.ipynb",
      "provenance": [],
      "toc_visible": true
    }
  },
  "cells": [
    {
      "cell_type": "markdown",
      "metadata": {
        "id": "TkOsaeuHlXTi"
      },
      "source": [
        "# Lab in Google Colab"
      ]
    },
    {
      "cell_type": "markdown",
      "metadata": {
        "id": "orml8Ex3lnBp"
      },
      "source": [
        "# ***1. Data Types and Data Structures***"
      ]
    },
    {
      "cell_type": "markdown",
      "metadata": {
        "id": "pCXoSfn0mVOV"
      },
      "source": [
        "## **Basic Variable Types**"
      ]
    },
    {
      "cell_type": "code",
      "metadata": {
        "id": "LY5excpCmBIF",
        "outputId": "96c0bfd1-5213-4798-adcc-b4c3b7e5e6ff",
        "colab": {
          "base_uri": "https://localhost:8080/"
        }
      },
      "source": [
        "myString1 = \"Welcome to\"\n",
        "myString2 = 'QuantConnect'\n",
        "print(myString1 + ' ' + myString2)"
      ],
      "execution_count": 4,
      "outputs": [
        {
          "output_type": "stream",
          "name": "stdout",
          "text": [
            "Welcome to QuantConnect\n"
          ]
        }
      ]
    },
    {
      "cell_type": "code",
      "metadata": {
        "id": "uQVGpqpcmaQ9",
        "outputId": "79d09dcb-b94c-4be7-9df3-bdbb21793cec",
        "colab": {
          "base_uri": "https://localhost:8080/"
        }
      },
      "source": [
        "myString3 = 'Daniel says:'\n",
        "myString4 = \"Hi everybody in algorithms class!\"\n",
        "print(myString3 + \"\\n\" + myString4)"
      ],
      "execution_count": 3,
      "outputs": [
        {
          "output_type": "stream",
          "name": "stdout",
          "text": [
            "Daniel says:\n",
            "Hi everybody in algorithms class!\n"
          ]
        }
      ]
    },
    {
      "cell_type": "code",
      "metadata": {
        "id": "z1acB5gZm8KS",
        "outputId": "6863f36b-a88d-4d22-e0e9-f6484f587c7f",
        "colab": {
          "base_uri": "https://localhost:8080/"
        }
      },
      "source": [
        "myInt1 = 10\n",
        "print(myInt1)\n",
        "print(type(myInt1))"
      ],
      "execution_count": 5,
      "outputs": [
        {
          "output_type": "stream",
          "name": "stdout",
          "text": [
            "10\n",
            "<class 'int'>\n"
          ]
        }
      ]
    },
    {
      "cell_type": "code",
      "metadata": {
        "id": "vQTXYm4bnDQb",
        "outputId": "e3069582-d846-484e-a102-12f09b8b9f6f",
        "colab": {
          "base_uri": "https://localhost:8080/"
        }
      },
      "source": [
        "myInt2 = 902\n",
        "print(myInt2)\n",
        "print(type(myInt2))"
      ],
      "execution_count": 6,
      "outputs": [
        {
          "output_type": "stream",
          "name": "stdout",
          "text": [
            "902\n",
            "<class 'int'>\n"
          ]
        }
      ]
    }
  ]
}